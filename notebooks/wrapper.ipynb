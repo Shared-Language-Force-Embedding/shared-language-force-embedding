{
 "cells": [
  {
   "cell_type": "code",
   "execution_count": null,
   "metadata": {},
   "outputs": [],
   "source": [
    "import preamble\n",
    "from model import DualAutoencoderModel\n",
    "from sentence_mapper import SentenceMapper\n",
    "from globals import FORCE_CURVE_DURATION, FORCE_SAMPLE_COUNT\n",
    "import pickle\n",
    "import numpy as np\n",
    "from numpy.typing import NDArray\n",
    "import matplotlib.pyplot as plt\n",
    "from scipy.signal import savgol_filter"
   ]
  },
  {
   "cell_type": "code",
   "execution_count": null,
   "metadata": {},
   "outputs": [],
   "source": [
    "def derivative_smooth(curve: NDArray) -> NDArray:\n",
    "    curve = savgol_filter(curve, window_length=50, polyorder=3, axis=0, mode='nearest')\n",
    "    return np.gradient(curve, FORCE_CURVE_DURATION / FORCE_SAMPLE_COUNT, axis=0)"
   ]
  },
  {
   "cell_type": "code",
   "execution_count": null,
   "metadata": {},
   "outputs": [],
   "source": [
    "modifiers = [\n",
    "    '',\n",
    "    'slightly',\n",
    "    'greatly',\n",
    "    'smoothly',\n",
    "    'sharply',\n",
    "    'slowly',\n",
    "    'quickly',\n",
    "    'lightly',\n",
    "    'significantly',\n",
    "    'softly',\n",
    "    'harshly',\n",
    "    'gradually',\n",
    "    'immediately',\n",
    "]\n",
    "\n",
    "directions = [\n",
    "    'backward',\n",
    "    'backward and down',\n",
    "    'backward and left',\n",
    "    'backward and right',\n",
    "    'backward and up',\n",
    "    'down',\n",
    "    'down and forward',\n",
    "    'down and left',\n",
    "    'down and right',\n",
    "    'forward',\n",
    "    'forward and left',\n",
    "    'forward and right',\n",
    "    'forward and up',\n",
    "    'left',\n",
    "    'left and up',\n",
    "    'right',\n",
    "    'right and up',\n",
    "    'up',\n",
    "]\n",
    "\n",
    "# vocabulary = [(f'Move {modifier} {direction}.', np.array([modifier, direction.replace('and ', '')], dtype='U16'))\n",
    "#               for modifier in modifiers for direction in directions]\n",
    "# vocabulary += [('', np.array(['', ''], dtype='U16'))]\n",
    "vocabulary = [(f'Move {modifier} {direction}.', np.array([modifier, direction.split(' ')[0], direction.split(' ')[-1] if 'and' in direction else ''], dtype='U16'))\n",
    "              for modifier in modifiers for direction in directions]\n",
    "vocabulary += [('', np.array(['', '', ''], dtype='U16'))]\n",
    "print(vocabulary)"
   ]
  },
  {
   "cell_type": "code",
   "execution_count": null,
   "metadata": {},
   "outputs": [],
   "source": [
    "# for phrase in [f'{modifier} {direction}' for modifier in modifiers for direction in directions]:\n",
    "#     print(phrase)"
   ]
  },
  {
   "cell_type": "code",
   "execution_count": null,
   "metadata": {},
   "outputs": [],
   "source": [
    "with open('../models/dae_g.pkl', 'rb') as file:\n",
    "    dae_b: DualAutoencoderModel = pickle.load(file)\n",
    "\n",
    "sentence_mapper = SentenceMapper(vocabulary)"
   ]
  },
  {
   "cell_type": "code",
   "execution_count": null,
   "metadata": {},
   "outputs": [],
   "source": [
    "sentence_mapper.map(['GO Swiftly right.'])"
   ]
  },
  {
   "cell_type": "code",
   "execution_count": null,
   "metadata": {},
   "outputs": [],
   "source": [
    "phrases = [\"Let's go upward and to the right.\", 'I want you to ease ahead over time.', 'I like apples.']\n",
    "phrase_mappings = sentence_mapper.map(phrases)\n",
    "print(phrase_mappings)\n",
    "force_curves = dae_b.phrase_to_force(phrase_mappings)\n",
    "reconstructed_phrases = dae_b.force_to_phrase(force_curves)\n",
    "\n",
    "for force_curve, phrase in zip(force_curves, phrases):\n",
    "    force_curve = derivative_smooth(force_curve)\n",
    "    time = np.linspace(0.0, FORCE_CURVE_DURATION, FORCE_SAMPLE_COUNT)\n",
    "    plt.figure(figsize=(5, 2.5))\n",
    "    plt.plot(time, force_curve[:, 0], color='#DF2935', label='x (right)')\n",
    "    plt.plot(time, force_curve[:, 1], color='#4DA167', label='y (forward)')\n",
    "    plt.plot(time, force_curve[:, 2], color='#3C91E6', label='z (up)')\n",
    "    plt.title(f\"\\\"{phrase}\\\"\", fontweight='bold')\n",
    "    plt.xlabel('Time (s)')\n",
    "    plt.ylabel('Force (N)')\n",
    "    plt.grid(visible=True, alpha=0.25)\n",
    "    plt.legend()\n",
    "    plt.ylim(-1.0, 6.0)\n",
    "    plt.show()"
   ]
  },
  {
   "cell_type": "code",
   "execution_count": null,
   "metadata": {},
   "outputs": [],
   "source": []
  }
 ],
 "metadata": {
  "kernelspec": {
   "display_name": "Python 3",
   "language": "python",
   "name": "python3"
  },
  "language_info": {
   "codemirror_mode": {
    "name": "ipython",
    "version": 3
   },
   "file_extension": ".py",
   "mimetype": "text/x-python",
   "name": "python",
   "nbconvert_exporter": "python",
   "pygments_lexer": "ipython3",
   "version": "3.12.7"
  }
 },
 "nbformat": 4,
 "nbformat_minor": 2
}
