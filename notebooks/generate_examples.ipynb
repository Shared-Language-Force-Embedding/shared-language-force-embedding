{
 "cells": [
  {
   "cell_type": "code",
   "execution_count": null,
   "metadata": {},
   "outputs": [],
   "source": [
    "import preamble\n",
    "import numpy as np\n",
    "from numpy.typing import NDArray\n",
    "from sklearn.model_selection import KFold\n",
    "import matplotlib.pyplot as plt\n",
    "from dataset import Dataset\n",
    "from model import DualAutoencoderModel\n",
    "from embedder import BinaryEmbedder, GloveEmbedder\n",
    "from globals import FORCE_SAMPLE_COUNT, FORCE_CURVE_DURATION\n",
    "from scipy.signal import savgol_filter\n",
    "import os"
   ]
  },
  {
   "cell_type": "code",
   "execution_count": null,
   "metadata": {},
   "outputs": [],
   "source": [
    "os.makedirs('output', exist_ok=True)\n",
    "\n",
    "dataset = Dataset('../data/trimmed_trials')\n",
    "\n",
    "force_data, phrase_data = dataset.load()\n",
    "merged_phrase_data = dataset.merge_directions(phrase_data)\n",
    "\n",
    "trial_id, user_id = np.meshgrid(np.arange(0, 42), np.arange(0, 10))\n",
    "id = np.stack((user_id, trial_id), axis=-1).reshape(-1, 2)\n",
    "\n",
    "binary_embedder = BinaryEmbedder(np.unique(merged_phrase_data), merged_phrase_data.shape[-1])\n",
    "glove_embedder = GloveEmbedder('../data/limited_vocab_embeddings_with_special_no_word_token_50d.pt', phrase_data.shape[-1])"
   ]
  },
  {
   "cell_type": "code",
   "execution_count": null,
   "metadata": {},
   "outputs": [],
   "source": [
    "def derivative(curve: NDArray) -> NDArray:\n",
    "    return np.gradient(curve, FORCE_CURVE_DURATION / FORCE_SAMPLE_COUNT, axis=0)\n",
    "\n",
    "def derivative_smooth(curve: NDArray) -> NDArray:\n",
    "    return np.gradient(savgol_filter(curve, window_length=50, polyorder=3, axis=0, mode='nearest'), FORCE_CURVE_DURATION / FORCE_SAMPLE_COUNT)\n",
    "\n",
    "kfold = KFold(n_splits=10, shuffle=True, random_state=0)\n",
    "\n",
    "for train_indices, test_indices in kfold.split(force_data):\n",
    "    force_train, phrase_train, merged_phrase_train = force_data[train_indices], phrase_data[train_indices], merged_phrase_data[train_indices]\n",
    "    force_test, phrase_test, merged_phrase_test = force_data[test_indices], phrase_data[test_indices], merged_phrase_data[test_indices]\n",
    "    id_test = id[test_indices]\n",
    "\n",
    "    dae_b = DualAutoencoderModel(binary_embedder)\n",
    "    dae_g = DualAutoencoderModel(glove_embedder, phrase_mse_loss=True)\n",
    "\n",
    "    dae_b.train(force_train, merged_phrase_train, epochs=1024)\n",
    "    dae_g.train(force_train, phrase_train, epochs=1024)\n",
    "\n",
    "    force_pred_b = dae_b.phrase_to_force(merged_phrase_test)\n",
    "    force_pred_g = dae_g.phrase_to_force(phrase_test)\n",
    "    phrase_pred_b = dae_b.force_to_phrase(force_test)\n",
    "    phrase_pred_g = dae_g.force_to_phrase(force_test)\n",
    "\n",
    "    t = np.linspace(0.0, FORCE_CURVE_DURATION, FORCE_SAMPLE_COUNT)\n",
    "\n",
    "    for i in range(force_test.shape[0]):\n",
    "        fig, ax = plt.subplots(figsize=(9, 6))\n",
    "        ax.plot(t, derivative(force_test[i, :, 0]), linewidth=1.0, color='red', linestyle='-', label='Reference X')\n",
    "        ax.plot(t, derivative(force_test[i, :, 1]), linewidth=1.0, color='green', linestyle='-', label='Reference Y')\n",
    "        ax.plot(t, derivative(force_test[i, :, 2]), linewidth=1.0, color='blue', linestyle='-', label='Reference Z')\n",
    "        ax.plot(t, derivative_smooth(force_pred_b[i, :, 0]), linewidth=1.0, color='red', linestyle='--', label='$\\\\text{DAE}_B$ X')\n",
    "        ax.plot(t, derivative_smooth(force_pred_b[i, :, 1]), linewidth=1.0, color='green', linestyle='--', label='$\\\\text{DAE}_B$ Y')\n",
    "        ax.plot(t, derivative_smooth(force_pred_b[i, :, 2]), linewidth=1.0, color='blue', linestyle='--', label='$\\\\text{DAE}_B$ Z')\n",
    "        ax.plot(t, derivative_smooth(force_pred_g[i, :, 0]), linewidth=1.0, color='red', linestyle=':', label='$\\\\text{DAE}_G$ X')\n",
    "        ax.plot(t, derivative_smooth(force_pred_g[i, :, 1]), linewidth=1.0, color='green', linestyle=':', label='$\\\\text{DAE}_G$ Y')\n",
    "        ax.plot(t, derivative_smooth(force_pred_g[i, :, 2]), linewidth=1.0, color='blue', linestyle=':', label='$\\\\text{DAE}_G$ Z')\n",
    "        ax.set_xlabel('Time (s)')\n",
    "        ax.set_ylabel('Force (N)')\n",
    "        ax.set_title(f\"Predicted Force Profile for '{' '.join(merged_phrase_test[i]).strip()}'\")\n",
    "        ax.grid(alpha=0.5)\n",
    "        ax.legend()\n",
    "\n",
    "        table_data = [\n",
    "            [\"Reference\", ' '.join(merged_phrase_test[i]).strip()],\n",
    "            [\"$\\\\text{DAE}_B$\", ' '.join(phrase_pred_b[i]).strip()],\n",
    "            [\"$\\\\text{DAE}_G$\", ' '.join(phrase_pred_g[i]).strip()]\n",
    "        ]\n",
    "        table = plt.table(cellText=table_data,\n",
    "                          colLabels=[\"$\\\\bf{Model}$\", \"$\\\\bf{Phrase}$\"],\n",
    "                          cellLoc='center',\n",
    "                          loc='bottom',\n",
    "                          bbox=[0, -0.5, 1, 0.3])\n",
    "        plt.figtext(0.5, -0.02, \"Predicted Phrases for Reference Force Profile\", ha=\"center\", fontsize=12)\n",
    "        plt.savefig(f'output/{id_test[i, 0]}_{id_test[i, 1]}.png', bbox_inches='tight')\n",
    "        plt.show()"
   ]
  }
 ],
 "metadata": {
  "kernelspec": {
   "display_name": "Python 3",
   "language": "python",
   "name": "python3"
  },
  "language_info": {
   "codemirror_mode": {
    "name": "ipython",
    "version": 3
   },
   "file_extension": ".py",
   "mimetype": "text/x-python",
   "name": "python",
   "nbconvert_exporter": "python",
   "pygments_lexer": "ipython3",
   "version": "3.12.7"
  }
 },
 "nbformat": 4,
 "nbformat_minor": 2
}
